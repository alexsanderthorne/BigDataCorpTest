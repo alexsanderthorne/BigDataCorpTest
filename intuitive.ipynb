{
  "nbformat": 4,
  "nbformat_minor": 0,
  "metadata": {
    "colab": {
      "provenance": [],
      "authorship_tag": "ABX9TyMAYUDOVsE9FkJNqaTXdrMH",
      "include_colab_link": true
    },
    "kernelspec": {
      "name": "python3",
      "display_name": "Python 3"
    },
    "language_info": {
      "name": "python"
    }
  },
  "cells": [
    {
      "cell_type": "markdown",
      "metadata": {
        "id": "view-in-github",
        "colab_type": "text"
      },
      "source": [
        "<a href=\"https://colab.research.google.com/github/alexsanderthorne/BigDataCorpTest/blob/main/intuitive.ipynb\" target=\"_parent\"><img src=\"https://colab.research.google.com/assets/colab-badge.svg\" alt=\"Open In Colab\"/></a>"
      ]
    },
    {
      "cell_type": "markdown",
      "source": [
        "1. TESTE DE WEB SCRAPING"
      ],
      "metadata": {
        "id": "L-f9UhEEfBqI"
      }
    },
    {
      "cell_type": "markdown",
      "source": [
        "1. Install necessary libraries\n",
        "\n"
      ],
      "metadata": {
        "id": "H23fAXhpcho1"
      }
    },
    {
      "cell_type": "code",
      "source": [],
      "metadata": {
        "id": "SHMYDjF8cmFU"
      },
      "execution_count": 3,
      "outputs": []
    },
    {
      "cell_type": "markdown",
      "source": [
        "2. Accessing the website and downloading the PDFs"
      ],
      "metadata": {
        "id": "Wx92jE3gcw3s"
      }
    },
    {
      "cell_type": "code",
      "source": [
        "import requests\n",
        "from bs4 import BeautifulSoup\n",
        "import zipfile\n",
        "\n",
        "# URL of the website\n",
        "url = \"https://www.gov.br/ans/pt-br/acesso-a-informacao/participacao-da-sociedade/atualizacao-do-rol-de-procedimentos\"\n",
        "\n",
        "# Send a request to the website and get the HTML content\n",
        "response = requests.get(url)\n",
        "html_content = response.content\n",
        "\n",
        "# Parse the HTML content using BeautifulSoup\n",
        "soup = BeautifulSoup(html_content, \"html.parser\")\n",
        "\n",
        "# Find all the links on the page\n",
        "all_links = soup.find_all(\"a\")\n",
        "\n",
        "# Filter for links to PDF files for Anexo I and Anexo II\n",
        "pdf_links = [\n",
        "    link[\"href\"]\n",
        "    for link in all_links\n",
        "    if link.get(\"href\")\n",
        "    and (link.text.strip().startswith(\"Anexo I\") or link.text.strip().startswith(\"Anexo II\"))\n",
        "    and link[\"href\"].endswith(\".pdf\")\n",
        "]\n",
        "\n",
        "# Download the PDF files and store their filenames\n",
        "downloaded_filenames = []\n",
        "for link in pdf_links:\n",
        "    file_name = link.split(\"/\")[-1]\n",
        "    downloaded_filenames.append(file_name)  # Store the filename\n",
        "    print(f\"Downloading {file_name}...\")\n",
        "    pdf_response = requests.get(link)\n",
        "    with open(file_name, \"wb\") as f:\n",
        "        f.write(pdf_response.content)\n",
        "    print(f\"{file_name} downloaded successfully!\")\n",
        "\n",
        "# Compress the PDF files into a ZIP archive using stored filenames\n",
        "with zipfile.ZipFile(\"Alexsander.zip\", \"w\") as zipf:\n",
        "    for file_name in downloaded_filenames:  # Use stored filenames\n",
        "        zipf.write(file_name)\n",
        "\n",
        "print(\"Anexos compressed successfully!\")"
      ],
      "metadata": {
        "colab": {
          "base_uri": "https://localhost:8080/"
        },
        "id": "35SUK5I7cyT3",
        "outputId": "5f7d3ab0-ac13-4fad-d871-161bee518846"
      },
      "execution_count": 4,
      "outputs": [
        {
          "output_type": "stream",
          "name": "stdout",
          "text": [
            "Downloading Anexo_I_Rol_2021RN_465.2021_RN627L.2024.pdf...\n",
            "Anexo_I_Rol_2021RN_465.2021_RN627L.2024.pdf downloaded successfully!\n",
            "Downloading Anexo_II_DUT_2021_RN_465.2021_RN628.2025_RN629.2025.pdf...\n",
            "Anexo_II_DUT_2021_RN_465.2021_RN628.2025_RN629.2025.pdf downloaded successfully!\n",
            "Anexos compressed successfully!\n"
          ]
        }
      ]
    },
    {
      "cell_type": "markdown",
      "source": [
        "Install necessary libraries"
      ],
      "metadata": {
        "id": "mFBHqRnAftUn"
      }
    },
    {
      "cell_type": "markdown",
      "source": [
        "2. TESTE DE TRANSFORMAÇÃO DE DADOS\n"
      ],
      "metadata": {
        "id": "fg7TEfARfGH4"
      }
    },
    {
      "cell_type": "code",
      "source": [
        "!pip install PyPDF2 tabula-py"
      ],
      "metadata": {
        "colab": {
          "base_uri": "https://localhost:8080/"
        },
        "id": "UVO09t2ffRM3",
        "outputId": "44710663-eecc-4ff5-b3af-c6a8cb8e4814"
      },
      "execution_count": 5,
      "outputs": [
        {
          "output_type": "stream",
          "name": "stdout",
          "text": [
            "Requirement already satisfied: PyPDF2 in /usr/local/lib/python3.11/dist-packages (3.0.1)\n",
            "Requirement already satisfied: tabula-py in /usr/local/lib/python3.11/dist-packages (2.10.0)\n",
            "Requirement already satisfied: pandas>=0.25.3 in /usr/local/lib/python3.11/dist-packages (from tabula-py) (2.2.2)\n",
            "Requirement already satisfied: numpy>1.24.4 in /usr/local/lib/python3.11/dist-packages (from tabula-py) (2.0.2)\n",
            "Requirement already satisfied: distro in /usr/local/lib/python3.11/dist-packages (from tabula-py) (1.9.0)\n",
            "Requirement already satisfied: python-dateutil>=2.8.2 in /usr/local/lib/python3.11/dist-packages (from pandas>=0.25.3->tabula-py) (2.8.2)\n",
            "Requirement already satisfied: pytz>=2020.1 in /usr/local/lib/python3.11/dist-packages (from pandas>=0.25.3->tabula-py) (2025.2)\n",
            "Requirement already satisfied: tzdata>=2022.7 in /usr/local/lib/python3.11/dist-packages (from pandas>=0.25.3->tabula-py) (2025.2)\n",
            "Requirement already satisfied: six>=1.5 in /usr/local/lib/python3.11/dist-packages (from python-dateutil>=2.8.2->pandas>=0.25.3->tabula-py) (1.17.0)\n"
          ]
        }
      ]
    },
    {
      "cell_type": "code",
      "source": [
        "!pip install PyPDF2 tabula-py gdown\n",
        "\n",
        "from google.colab import drive\n",
        "drive.mount('/content/drive')\n",
        "\n",
        "import PyPDF2\n",
        "import tabula\n",
        "import pandas as pd\n",
        "import zipfile\n",
        "import gdown\n",
        "\n",
        "# 1. Download the PDF file from the Google Drive link using gdown\n",
        "file_url = 'https://drive.google.com/file/d/1-vPNsPLBLy1eDbUZxLhCnmmco4Z6i5fe/view?usp=drive_link'\n",
        "file_id = file_url.split('/')[-2] # Extract the file ID from the URL\n",
        "gdown.download(id=file_id, output='downloaded_file.pdf', quiet=False)\n",
        "\n",
        "\n",
        "# 2. Extrair dados do PDF\n",
        "tables = tabula.read_pdf('downloaded_file.pdf', pages=\"all\", multiple_tables=True)\n",
        "\n",
        "# Combinando todas as tabelas em um único DataFrame\n",
        "df = pd.concat(tables)\n",
        "\n",
        "# 3. Salvar dados em CSV\n",
        "df.to_csv(\"rol_procedimentos.csv\", index=False)\n",
        "\n",
        "# 4. Compactar o CSV\n",
        "with zipfile.ZipFile(\"Alexsander.zip\", \"w\") as zipf:\n",
        "    zipf.write(\"rol_procedimentos.csv\")\n",
        "\n",
        "# 5. Substituir abreviações\n",
        "# Substituindo OD por \"Odontologia\" e AMB por \"Ambulatorial\"\n",
        "df = df.replace({\"OD\": \"Odontologia\", \"AMB\": \"Ambulatorial\"})\n",
        "\n",
        "# Salvar o DataFrame com as abreviações substituídas\n",
        "df.to_csv(\"rol_procedimentos_final.csv\", index=False)\n",
        "\n",
        "print(\"Processo concluído com sucesso!\")"
      ],
      "metadata": {
        "colab": {
          "base_uri": "https://localhost:8080/"
        },
        "id": "mbzRcbw_fIrv",
        "outputId": "b2fe9ee2-34b8-4161-e247-043005cd32eb"
      },
      "execution_count": 6,
      "outputs": [
        {
          "output_type": "stream",
          "name": "stdout",
          "text": [
            "Requirement already satisfied: PyPDF2 in /usr/local/lib/python3.11/dist-packages (3.0.1)\n",
            "Requirement already satisfied: tabula-py in /usr/local/lib/python3.11/dist-packages (2.10.0)\n",
            "Requirement already satisfied: gdown in /usr/local/lib/python3.11/dist-packages (5.2.0)\n",
            "Requirement already satisfied: pandas>=0.25.3 in /usr/local/lib/python3.11/dist-packages (from tabula-py) (2.2.2)\n",
            "Requirement already satisfied: numpy>1.24.4 in /usr/local/lib/python3.11/dist-packages (from tabula-py) (2.0.2)\n",
            "Requirement already satisfied: distro in /usr/local/lib/python3.11/dist-packages (from tabula-py) (1.9.0)\n",
            "Requirement already satisfied: beautifulsoup4 in /usr/local/lib/python3.11/dist-packages (from gdown) (4.13.3)\n",
            "Requirement already satisfied: filelock in /usr/local/lib/python3.11/dist-packages (from gdown) (3.18.0)\n",
            "Requirement already satisfied: requests[socks] in /usr/local/lib/python3.11/dist-packages (from gdown) (2.32.3)\n",
            "Requirement already satisfied: tqdm in /usr/local/lib/python3.11/dist-packages (from gdown) (4.67.1)\n",
            "Requirement already satisfied: python-dateutil>=2.8.2 in /usr/local/lib/python3.11/dist-packages (from pandas>=0.25.3->tabula-py) (2.8.2)\n",
            "Requirement already satisfied: pytz>=2020.1 in /usr/local/lib/python3.11/dist-packages (from pandas>=0.25.3->tabula-py) (2025.2)\n",
            "Requirement already satisfied: tzdata>=2022.7 in /usr/local/lib/python3.11/dist-packages (from pandas>=0.25.3->tabula-py) (2025.2)\n",
            "Requirement already satisfied: soupsieve>1.2 in /usr/local/lib/python3.11/dist-packages (from beautifulsoup4->gdown) (2.6)\n",
            "Requirement already satisfied: typing-extensions>=4.0.0 in /usr/local/lib/python3.11/dist-packages (from beautifulsoup4->gdown) (4.13.0)\n",
            "Requirement already satisfied: charset-normalizer<4,>=2 in /usr/local/lib/python3.11/dist-packages (from requests[socks]->gdown) (3.4.1)\n",
            "Requirement already satisfied: idna<4,>=2.5 in /usr/local/lib/python3.11/dist-packages (from requests[socks]->gdown) (3.10)\n",
            "Requirement already satisfied: urllib3<3,>=1.21.1 in /usr/local/lib/python3.11/dist-packages (from requests[socks]->gdown) (2.3.0)\n",
            "Requirement already satisfied: certifi>=2017.4.17 in /usr/local/lib/python3.11/dist-packages (from requests[socks]->gdown) (2025.1.31)\n",
            "Requirement already satisfied: PySocks!=1.5.7,>=1.5.6 in /usr/local/lib/python3.11/dist-packages (from requests[socks]->gdown) (1.7.1)\n",
            "Requirement already satisfied: six>=1.5 in /usr/local/lib/python3.11/dist-packages (from python-dateutil>=2.8.2->pandas>=0.25.3->tabula-py) (1.17.0)\n",
            "Mounted at /content/drive\n"
          ]
        },
        {
          "output_type": "stream",
          "name": "stderr",
          "text": [
            "Downloading...\n",
            "From: https://drive.google.com/uc?id=1-vPNsPLBLy1eDbUZxLhCnmmco4Z6i5fe\n",
            "To: /content/downloaded_file.pdf\n",
            "100%|██████████| 13.7M/13.7M [00:00<00:00, 85.5MB/s]\n",
            "WARNING:tabula.backend:Failed to import jpype dependencies. Fallback to subprocess.\n",
            "WARNING:tabula.backend:No module named 'jpype'\n",
            "WARNING:tabula.backend:Got stderr: Apr 04, 2025 12:21:25 PM org.apache.pdfbox.pdmodel.font.FileSystemFontProvider loadDiskCache\n",
            "WARNING: New fonts found, font cache will be re-built\n",
            "Apr 04, 2025 12:21:26 PM org.apache.pdfbox.pdmodel.font.FileSystemFontProvider <init>\n",
            "WARNING: Building on-disk font cache, this may take a while\n",
            "Apr 04, 2025 12:21:26 PM org.apache.pdfbox.pdmodel.font.FileSystemFontProvider <init>\n",
            "WARNING: Finished building on-disk font cache, found 17 fonts\n",
            "\n"
          ]
        },
        {
          "output_type": "stream",
          "name": "stdout",
          "text": [
            "Processo concluído com sucesso!\n"
          ]
        }
      ]
    },
    {
      "cell_type": "markdown",
      "source": [
        "3. TESTE DE BANCO DE DADOS"
      ],
      "metadata": {
        "id": "BocsFag10NAO"
      }
    },
    {
      "cell_type": "markdown",
      "source": [
        "Tarefas de Preparação:"
      ],
      "metadata": {
        "id": "9AFF6HCzW-ZG"
      }
    },
    {
      "cell_type": "code",
      "source": [
        "import ftplib\n",
        "import os\n",
        "\n",
        "ftp_server = 'dadosabertos.ans.gov.br'\n",
        "ftp_path = '/FTP/PDA/demonstracoes_contabeis/'\n",
        "\n",
        "ftp = ftplib.FTP(ftp_server)\n",
        "ftp.login()  # Use ftp.login('username', 'password') if authentication is required\n",
        "ftp.cwd(ftp_path)\n",
        "\n",
        "def download_files(ftp, current_path):\n",
        "    \"\"\"Recursively downloads files from the given FTP path.\"\"\"\n",
        "    file_list = ftp.nlst()  # Get the list of files and directories\n",
        "\n",
        "    for item in file_list:\n",
        "        item_path = os.path.join(current_path, item)\n",
        "        print(f\"Found item: {item_path}\")\n",
        "\n",
        "        try:\n",
        "            # Try to get file size; raises error for directories\n",
        "            ftp.size(item)\n",
        "            # It's a file, so download it\n",
        "            local_file_path = os.path.join(\"demonstracoes_contabeis\", item_path)\n",
        "            os.makedirs(os.path.dirname(local_file_path), exist_ok=True)\n",
        "            with open(local_file_path, 'wb') as local_file:\n",
        "                ftp.retrbinary('RETR ' + item, local_file.write)\n",
        "            print(f\"Downloaded: {item_path}\")\n",
        "        except ftplib.error_perm as e:\n",
        "            if str(e).startswith('550'):  # Likely a directory\n",
        "                print(f\"Entering directory: {item_path}\")\n",
        "                ftp.cwd(item)  # Change to the subdirectory\n",
        "                download_files(ftp, item_path)  # Recursively download files inside\n",
        "                ftp.cwd(\"..\")  # Go back up one level\n",
        "                print(f\"Exiting directory: {item_path}\")\n",
        "            else:\n",
        "                print(f\"Skipping {item_path} (permission error): {e}\")\n",
        "\n",
        "# Start the download process from the base path\n",
        "download_files(ftp, '')\n",
        "\n",
        "ftp.quit()\n",
        "\n",
        "\n",
        "\n",
        "# --- Downloading Operadoras Ativas ---\n",
        "operadoras_url = \"https://dadosabertos.ans.gov.br/FTP/PDA/operadoras_de_plano_de_saude_ativas/\"\n",
        "operadoras_path = \"Relatorio_cadop.csv\"\n",
        "try:\n",
        "    with open(operadoras_path, 'wb') as f:\n",
        "        response = requests.get(operadoras_url)\n",
        "        response.raise_for_status()  # Raise HTTPError for bad responses (4xx or 5xx)\n",
        "        f.write(response.content)\n",
        "    print(\"Downloaded: CadOp.csv\")\n",
        "\n",
        "except requests.exceptions.RequestException as e:\n",
        "    print(f\"Error downloading CadOp.csv: {e}\")"
      ],
      "metadata": {
        "colab": {
          "base_uri": "https://localhost:8080/"
        },
        "id": "dkHnAnQB14Sv",
        "outputId": "e5984a2c-061b-4ab5-bd17-918b15bf5de0"
      },
      "execution_count": 9,
      "outputs": [
        {
          "output_type": "stream",
          "name": "stdout",
          "text": [
            "Found item: 2007\n",
            "Entering directory: 2007\n",
            "Found item: 2007/2007_1_trimestre.zip\n",
            "Downloaded: 2007/2007_1_trimestre.zip\n",
            "Found item: 2007/2007_2_trimestre.zip\n",
            "Downloaded: 2007/2007_2_trimestre.zip\n",
            "Found item: 2007/2007_3_trimestre.zip\n",
            "Downloaded: 2007/2007_3_trimestre.zip\n",
            "Found item: 2007/2007_4_trimestre.zip\n",
            "Downloaded: 2007/2007_4_trimestre.zip\n",
            "Exiting directory: 2007\n",
            "Found item: 2008\n",
            "Entering directory: 2008\n",
            "Found item: 2008/2008_1_trimestre.zip\n",
            "Downloaded: 2008/2008_1_trimestre.zip\n",
            "Found item: 2008/2008_2_trimestre.zip\n",
            "Downloaded: 2008/2008_2_trimestre.zip\n",
            "Found item: 2008/2008_3_trimestre.zip\n",
            "Downloaded: 2008/2008_3_trimestre.zip\n",
            "Found item: 2008/2008_4_trimestre.zip\n",
            "Downloaded: 2008/2008_4_trimestre.zip\n",
            "Exiting directory: 2008\n",
            "Found item: 2009\n",
            "Entering directory: 2009\n",
            "Found item: 2009/2009_1_trimestre.zip\n",
            "Downloaded: 2009/2009_1_trimestre.zip\n",
            "Found item: 2009/2009_2_trimestre.zip\n",
            "Downloaded: 2009/2009_2_trimestre.zip\n",
            "Found item: 2009/2009_3_trimestre.zip\n",
            "Downloaded: 2009/2009_3_trimestre.zip\n",
            "Found item: 2009/2009_4_trimestre.zip\n",
            "Downloaded: 2009/2009_4_trimestre.zip\n",
            "Exiting directory: 2009\n",
            "Found item: 2010\n",
            "Entering directory: 2010\n",
            "Found item: 2010/2010_1_trimestre.zip\n",
            "Downloaded: 2010/2010_1_trimestre.zip\n",
            "Found item: 2010/2010_2_trimestre.zip\n",
            "Downloaded: 2010/2010_2_trimestre.zip\n",
            "Found item: 2010/2010_3_trimestre.zip\n",
            "Downloaded: 2010/2010_3_trimestre.zip\n",
            "Found item: 2010/2010_4_trimestre.zip\n",
            "Downloaded: 2010/2010_4_trimestre.zip\n",
            "Exiting directory: 2010\n",
            "Found item: 2011\n",
            "Entering directory: 2011\n",
            "Found item: 2011/20120614_2011_1_trimestre.zip\n",
            "Downloaded: 2011/20120614_2011_1_trimestre.zip\n",
            "Found item: 2011/20120614_2011_2_trimestre.zip\n",
            "Downloaded: 2011/20120614_2011_2_trimestre.zip\n",
            "Found item: 2011/20120614_2011_3_trimestre.zip\n",
            "Downloaded: 2011/20120614_2011_3_trimestre.zip\n",
            "Found item: 2011/20120614_2011_4_trimestre.zip\n",
            "Downloaded: 2011/20120614_2011_4_trimestre.zip\n",
            "Exiting directory: 2011\n",
            "Found item: 2012\n",
            "Entering directory: 2012\n",
            "Found item: 2012/20130416_1T2012.zip\n",
            "Downloaded: 2012/20130416_1T2012.zip\n",
            "Found item: 2012/20130416_2T2012.zip\n",
            "Downloaded: 2012/20130416_2T2012.zip\n",
            "Found item: 2012/20130416_3T2012.zip\n",
            "Downloaded: 2012/20130416_3T2012.zip\n",
            "Found item: 2012/20130416_4T2012.zip\n",
            "Downloaded: 2012/20130416_4T2012.zip\n",
            "Exiting directory: 2012\n",
            "Found item: 2013\n",
            "Entering directory: 2013\n",
            "Found item: 2013/2013-1t.zip\n",
            "Downloaded: 2013/2013-1t.zip\n",
            "Found item: 2013/2013-2t.zip\n",
            "Downloaded: 2013/2013-2t.zip\n",
            "Found item: 2013/2013-3t.zip\n",
            "Downloaded: 2013/2013-3t.zip\n",
            "Found item: 2013/2013-4t.zip\n",
            "Downloaded: 2013/2013-4t.zip\n",
            "Exiting directory: 2013\n",
            "Found item: 2014\n",
            "Entering directory: 2014\n",
            "Found item: 2014/1T2014.zip\n",
            "Downloaded: 2014/1T2014.zip\n",
            "Found item: 2014/2T2014.zip\n",
            "Downloaded: 2014/2T2014.zip\n",
            "Found item: 2014/3T2014.zip\n",
            "Downloaded: 2014/3T2014.zip\n",
            "Found item: 2014/4T2014.zip\n",
            "Downloaded: 2014/4T2014.zip\n",
            "Exiting directory: 2014\n",
            "Found item: 2015\n",
            "Entering directory: 2015\n",
            "Found item: 2015/1T2015.zip\n",
            "Downloaded: 2015/1T2015.zip\n",
            "Found item: 2015/2T2015.zip\n",
            "Downloaded: 2015/2T2015.zip\n",
            "Found item: 2015/3T2015.zip\n",
            "Downloaded: 2015/3T2015.zip\n",
            "Found item: 2015/4T2015.zip\n",
            "Downloaded: 2015/4T2015.zip\n",
            "Exiting directory: 2015\n",
            "Found item: 2016\n",
            "Entering directory: 2016\n",
            "Found item: 2016/1T2016.zip\n",
            "Downloaded: 2016/1T2016.zip\n",
            "Found item: 2016/2T2016.zip\n",
            "Downloaded: 2016/2T2016.zip\n",
            "Found item: 2016/3T2016.zip\n",
            "Downloaded: 2016/3T2016.zip\n",
            "Found item: 2016/4T2016.zip\n",
            "Downloaded: 2016/4T2016.zip\n",
            "Exiting directory: 2016\n",
            "Found item: 2017\n",
            "Entering directory: 2017\n",
            "Found item: 2017/1T2017.zip\n",
            "Downloaded: 2017/1T2017.zip\n",
            "Found item: 2017/2T2017.zip\n",
            "Downloaded: 2017/2T2017.zip\n",
            "Found item: 2017/3-Trimestre.zip\n",
            "Downloaded: 2017/3-Trimestre.zip\n",
            "Found item: 2017/4T2017.zip\n",
            "Downloaded: 2017/4T2017.zip\n",
            "Exiting directory: 2017\n",
            "Found item: 2018\n",
            "Entering directory: 2018\n",
            "Found item: 2018/1T2018.zip\n",
            "Downloaded: 2018/1T2018.zip\n",
            "Found item: 2018/2T2018.zip\n",
            "Downloaded: 2018/2T2018.zip\n",
            "Found item: 2018/3T2018.zip\n",
            "Downloaded: 2018/3T2018.zip\n",
            "Found item: 2018/4T2018.zip\n",
            "Downloaded: 2018/4T2018.zip\n",
            "Exiting directory: 2018\n",
            "Found item: 2019\n",
            "Entering directory: 2019\n",
            "Found item: 2019/1T2019.zip\n",
            "Downloaded: 2019/1T2019.zip\n",
            "Found item: 2019/2T2019.zip\n",
            "Downloaded: 2019/2T2019.zip\n",
            "Found item: 2019/3T2019.zip\n",
            "Downloaded: 2019/3T2019.zip\n",
            "Found item: 2019/4T2019.zip\n",
            "Downloaded: 2019/4T2019.zip\n",
            "Exiting directory: 2019\n",
            "Found item: 2020\n",
            "Entering directory: 2020\n",
            "Found item: 2020/1T2020.zip\n",
            "Downloaded: 2020/1T2020.zip\n",
            "Found item: 2020/2T2020.zip\n",
            "Downloaded: 2020/2T2020.zip\n",
            "Found item: 2020/3T2020.zip\n",
            "Downloaded: 2020/3T2020.zip\n",
            "Found item: 2020/4T2020.zip\n",
            "Downloaded: 2020/4T2020.zip\n",
            "Exiting directory: 2020\n",
            "Found item: 2021\n",
            "Entering directory: 2021\n",
            "Found item: 2021/1T2021.zip\n",
            "Downloaded: 2021/1T2021.zip\n",
            "Found item: 2021/2T2021.zip\n",
            "Downloaded: 2021/2T2021.zip\n",
            "Found item: 2021/3T2021.zip\n",
            "Downloaded: 2021/3T2021.zip\n",
            "Found item: 2021/4T2021.zip\n",
            "Downloaded: 2021/4T2021.zip\n",
            "Exiting directory: 2021\n",
            "Found item: 2022\n",
            "Entering directory: 2022\n",
            "Found item: 2022/1T2022.zip\n",
            "Downloaded: 2022/1T2022.zip\n",
            "Found item: 2022/2T2022.zip\n",
            "Downloaded: 2022/2T2022.zip\n",
            "Found item: 2022/3T2022.zip\n",
            "Downloaded: 2022/3T2022.zip\n",
            "Found item: 2022/4T2022.zip\n",
            "Downloaded: 2022/4T2022.zip\n",
            "Exiting directory: 2022\n",
            "Found item: 2023\n",
            "Entering directory: 2023\n",
            "Found item: 2023/1T2023.zip\n",
            "Downloaded: 2023/1T2023.zip\n",
            "Found item: 2023/2T2023.zip\n",
            "Downloaded: 2023/2T2023.zip\n",
            "Found item: 2023/3T2023.zip\n",
            "Downloaded: 2023/3T2023.zip\n",
            "Found item: 2023/4T2023.zip\n",
            "Downloaded: 2023/4T2023.zip\n",
            "Exiting directory: 2023\n",
            "Found item: 2024\n",
            "Entering directory: 2024\n",
            "Found item: 2024/1T2024.zip\n",
            "Downloaded: 2024/1T2024.zip\n",
            "Found item: 2024/2T2024.zip\n",
            "Downloaded: 2024/2T2024.zip\n",
            "Found item: 2024/3T2024.zip\n",
            "Downloaded: 2024/3T2024.zip\n",
            "Found item: 2024/4T2024.zip\n",
            "Downloaded: 2024/4T2024.zip\n",
            "Exiting directory: 2024\n",
            "Found item: dicionario_demonstracoes_contabeis.ods\n",
            "Downloaded: dicionario_demonstracoes_contabeis.ods\n",
            "Downloaded: CadOp.csv\n"
          ]
        }
      ]
    }
  ]
}